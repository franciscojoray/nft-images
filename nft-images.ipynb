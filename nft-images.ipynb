{
 "cells": [
  {
   "cell_type": "code",
   "execution_count": 9,
   "metadata": {},
   "outputs": [],
   "source": [
    "import requests"
   ]
  },
  {
   "cell_type": "code",
   "execution_count": 7,
   "metadata": {},
   "outputs": [],
   "source": [
    "# REPLACE WITH ANY NFT'S ASSET ID\n",
    "assetID = \"dac355946b4317530d9ec0cb142c63a4b624610786c2a32137d78e2561646170655365616265727442726f776e\""
   ]
  },
  {
   "cell_type": "code",
   "execution_count": 10,
   "metadata": {},
   "outputs": [
    {
     "data": {
      "text/plain": [
       "'ipfs://QmRqcXK2ch9BDZ3VNUw4NVRJyM8L88gmCCUHF8tbd93E31'"
      ]
     },
     "execution_count": 10,
     "metadata": {},
     "output_type": "execute_result"
    }
   ],
   "source": [
    "url = \"https://cardano-mainnet.blockfrost.io/api/v0/assets/{}\".format(assetID)\n",
    "response = requests.get(url, headers={\"project_id\":\"mainnet2j439B1srJJ8rEPAQRQyrWtMTEV5fgGl\"})\n",
    "data = response.json()\n",
    "ipfs_url = data['onchain_metadata']['image']\n",
    "ipfs_url"
   ]
  },
  {
   "cell_type": "code",
   "execution_count": 11,
   "metadata": {},
   "outputs": [],
   "source": [
    "ipfs_cid = ipfs_url.split('//')[1]\n",
    "image_response = requests.get(\"https://ipfs.io/ipfs/{}\".format(ipfs_cid))"
   ]
  },
  {
   "cell_type": "code",
   "execution_count": 19,
   "metadata": {},
   "outputs": [],
   "source": [
    "with open(\"image.jpg\", \"wb\") as f:\n",
    "    f.write(image_response.content)"
   ]
  },
  {
   "cell_type": "code",
   "execution_count": null,
   "metadata": {},
   "outputs": [],
   "source": [
    "pip install -r semantic-segmentation/requirement.txt"
   ]
  },
  {
   "cell_type": "code",
   "execution_count": null,
   "metadata": {},
   "outputs": [],
   "source": [
    "# !python3 semantic-segmentation/service.py"
   ]
  },
  {
   "cell_type": "code",
   "execution_count": 4,
   "metadata": {},
   "outputs": [],
   "source": [
    "# WARNING: UNCOMMENT AND RUN THE CODE BELOW IFF USING PYTHON>=3.10\n",
    "# THIS IS MEANT TO MAKE THE SERVICE COMPATIBLE.\n",
    "# def findReplace(filename, find, replace):\n",
    "#     with open(filename, 'r') as file:\n",
    "#         filedata = file.read()\n",
    "#     filedata = filedata.replace(find, replace)\n",
    "#     with open(filename, 'w') as file:\n",
    "#         file.write(filedata)\n",
    "\n",
    "# findReplace(\"/config/.local/lib/python3.10/site-packages/attrdict/default.py\", \"from collections import\", \"from collections.abc import\")\n",
    "# findReplace(\"/config/.local/lib/python3.10/site-packages/attrdict/mapping.py\", \"from collections import\", \"from collections.abc import\")\n",
    "# findReplace(\"/config/.local/lib/python3.10/site-packages/attrdict/merge.py\", \"from collections import\", \"from collections.abc import\")\n",
    "# findReplace(\"/config/.local/lib/python3.10/site-packages/attrdict/mixins.py\", \"from collections import\", \"from collections.abc import\")\n",
    "# findReplace(\"/config/.local/lib/python3.10/site-packages/eth_account/account.py\", \"from collections import\", \"from collections.abc import\")\n",
    "# findReplace(\"/config/.local/lib/python3.10/site-packages/rlp/codec.py\", \"import collections\\n\", \"import collections.abc as collections\\n\")\n",
    "# findReplace(\"/config/.local/lib/python3.10/site-packages/rlp/lazy.py\", \"from collections import\", \"from collections.abc import\")\n",
    "# findReplace(\"/config/.local/lib/python3.10/site-packages/rlp/sedes/lists.py\", \"from collections import\", \"from collections.abc import\")\n",
    "# findReplace(\"/config/.local/lib/python3.10/site-packages/rlp/sedes/raw.py\", \"from collections import\", \"from collections.abc import\")\n",
    "# findReplace(\"/config/.local/lib/python3.10/site-packages/rlp/sedes/serializable.py\", \"import collections\\n\", \"import collections\\nimport collections.abc\\n\")\n",
    "# findReplace(\"/config/.local/lib/python3.10/site-packages/rlp/sedes/serializable.py\", \"collections.Sequence\", \"collections.abc.Sequence\")\n",
    "# findReplace(\"/config/.local/lib/python3.10/site-packages/web3/datastructures.py\", \"from collections import (\\n    Hashable,\\n    Mapping,\\n    MutableMapping,\\n    OrderedDict,\\n    Sequence,\\n)\", \"from collections.abc import (\\n    Hashable,\\n    Mapping,\\n    MutableMapping,\\n    Sequence,\\n)\\nfrom collections import OrderedDict\")\n",
    "# findReplace(\"/config/.local/lib/python3.10/site-packages/web3/utils/six/six.py\", \"import collections\\n\", \"import collections.abc as collections\\n\")\n",
    "# findReplace(\"/config/.local/lib/python3.10/site-packages/web3/utils/formatters.py\", \"from collections import\", \"from collections.abc import\")"
   ]
  }
 ],
 "metadata": {
  "kernelspec": {
   "display_name": "Python 3",
   "language": "python",
   "name": "python3"
  },
  "language_info": {
   "codemirror_mode": {
    "name": "ipython",
    "version": 3
   },
   "file_extension": ".py",
   "mimetype": "text/x-python",
   "name": "python",
   "nbconvert_exporter": "python",
   "pygments_lexer": "ipython3",
   "version": "3.10.12"
  },
  "orig_nbformat": 4
 },
 "nbformat": 4,
 "nbformat_minor": 2
}
